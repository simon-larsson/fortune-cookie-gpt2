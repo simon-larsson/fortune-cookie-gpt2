{
 "cells": [
  {
   "cell_type": "code",
   "execution_count": 1,
   "metadata": {},
   "outputs": [],
   "source": [
    "from easy_gpt2 import EasyGPT2 # easy_gpt2.py\n",
    "import pandas as pd"
   ]
  },
  {
   "cell_type": "code",
   "execution_count": 2,
   "metadata": {},
   "outputs": [
    {
     "data": {
      "text/html": [
       "<div>\n",
       "<style scoped>\n",
       "    .dataframe tbody tr th:only-of-type {\n",
       "        vertical-align: middle;\n",
       "    }\n",
       "\n",
       "    .dataframe tbody tr th {\n",
       "        vertical-align: top;\n",
       "    }\n",
       "\n",
       "    .dataframe thead th {\n",
       "        text-align: right;\n",
       "    }\n",
       "</style>\n",
       "<table border=\"1\" class=\"dataframe\">\n",
       "  <thead>\n",
       "    <tr style=\"text-align: right;\">\n",
       "      <th></th>\n",
       "      <th>fortunes</th>\n",
       "    </tr>\n",
       "  </thead>\n",
       "  <tbody>\n",
       "    <tr>\n",
       "      <th>0</th>\n",
       "      <td>Today it's up to you to create the peacefulnes...</td>\n",
       "    </tr>\n",
       "    <tr>\n",
       "      <th>1</th>\n",
       "      <td>A friend asks only for your time not your money.</td>\n",
       "    </tr>\n",
       "    <tr>\n",
       "      <th>2</th>\n",
       "      <td>If you refuse to accept anything but the best,...</td>\n",
       "    </tr>\n",
       "    <tr>\n",
       "      <th>3</th>\n",
       "      <td>A smile is your passport into the hearts of ot...</td>\n",
       "    </tr>\n",
       "    <tr>\n",
       "      <th>4</th>\n",
       "      <td>A good way to keep healthy is to eat more Chin...</td>\n",
       "    </tr>\n",
       "  </tbody>\n",
       "</table>\n",
       "</div>"
      ],
      "text/plain": [
       "                                            fortunes\n",
       "0  Today it's up to you to create the peacefulnes...\n",
       "1   A friend asks only for your time not your money.\n",
       "2  If you refuse to accept anything but the best,...\n",
       "3  A smile is your passport into the hearts of ot...\n",
       "4  A good way to keep healthy is to eat more Chin..."
      ]
     },
     "execution_count": 2,
     "metadata": {},
     "output_type": "execute_result"
    }
   ],
   "source": [
    "df = pd.read_csv('./data/fortunes.csv')\n",
    "df.head()"
   ]
  },
  {
   "cell_type": "code",
   "execution_count": 3,
   "metadata": {},
   "outputs": [
    {
     "data": {
      "text/plain": [
       "\"Today it's up to you to create the peacefulness you long for.\""
      ]
     },
     "execution_count": 3,
     "metadata": {},
     "output_type": "execute_result"
    }
   ],
   "source": [
    "fortunes = list(df['fortunes'])\n",
    "fortunes[0]"
   ]
  },
  {
   "cell_type": "code",
   "execution_count": 4,
   "metadata": {},
   "outputs": [
    {
     "name": "stdout",
     "output_type": "stream",
     "text": [
      "Epoch 0 started\n",
      "Training loss: 3.317608118057251\n",
      "Epoch 1 started\n",
      "Training loss: 3.239337464173635\n",
      "Epoch 2 started\n",
      "Training loss: 3.1387464801470437\n",
      "Epoch 3 started\n",
      "Training loss: 3.0651666720708213\n",
      "Epoch 4 started\n",
      "Training loss: 2.976040929555893\n",
      "Epoch 5 started\n",
      "Training loss: 2.8833499252796173\n",
      "Epoch 6 started\n",
      "Training loss: 2.781938831011454\n",
      "Epoch 7 started\n",
      "Training loss: 2.685421327749888\n",
      "Epoch 8 started\n",
      "Training loss: 2.5705168147881827\n",
      "Epoch 9 started\n",
      "Training loss: 2.460703502098719\n"
     ]
    }
   ],
   "source": [
    "gpt2 = EasyGPT2()\n",
    "\n",
    "gpt2.finetune(texts=fortunes)"
   ]
  },
  {
   "cell_type": "code",
   "execution_count": 5,
   "metadata": {},
   "outputs": [
    {
     "name": "stderr",
     "output_type": "stream",
     "text": [
      "Setting `pad_token_id` to 50256 (first `eos_token_id`) to generate sequence\n"
     ]
    },
    {
     "name": "stdout",
     "output_type": "stream",
     "text": [
      "Hobbies is hard work!\n",
      "\n",
      "Now make your dream a reality!\n",
      "\n",
      "An order will always make you feel better.\n",
      "\n",
      "Take things easy.\n",
      "\n",
      "Your business could make some more sense today.\n",
      "\n",
      "The best thing a man brings with him/her father is patience.\n",
      "\n",
      "The best are the ones who think quickly.\n",
      "\n",
      "You will often get the call on your next year.\n",
      "\n",
      "An interesting story is always better than nothing.\n",
      "\n",
      "If there's one good news, it's the best thing ever.\n",
      "\n",
      "You have a great need for something.\n",
      "\n",
      "The day your dog brings home is coming to an immediate close.\n",
      "\n",
      "The best way to get ahead today is to use your intelligence.\n",
      "\n",
      "Today is the day to show your appreciation.\n",
      "\n",
      "You're about to take on a different kind of work that must be done today.\n",
      "\n",
      "You're not always listening to the people around you; you're trying to listen.\n",
      "\n",
      "You are a person of many worlds.\n",
      "\n",
      "There may be some surprise or surprise about you today.\n",
      "\n",
      "If there is no tomorrow, we will fall behind. Sometimes, there will be no tomorrow.\n",
      "\n",
      "You will benefit from the next round of events.\n",
      "\n",
      "Today is not the time of your dream.\n",
      "\n",
      "You've had a dream, right?\n",
      "\n",
      "The person and subject to which they are looking for the most has been chosen.\n",
      "\n",
      "You've got an amazing understanding of human nature.\n",
      "\n",
      "You've got the chance to lead a life of leisure.\n",
      "\n",
      "The present is your home, a place where you can live a long and happy. For life.\n",
      "\n",
      "What will you dream of seeing tomorrow?\n",
      "\n",
      "Stay positive. Always look in the future. You are not dreaming.\n"
     ]
    }
   ],
   "source": [
    "print(gpt2.generate(max_length=100).replace('<EOS>', '\\n\\n'))"
   ]
  },
  {
   "cell_type": "code",
   "execution_count": null,
   "metadata": {},
   "outputs": [],
   "source": []
  }
 ],
 "metadata": {
  "kernelspec": {
   "display_name": "Python 3",
   "language": "python",
   "name": "python3"
  },
  "language_info": {
   "codemirror_mode": {
    "name": "ipython",
    "version": 3
   },
   "file_extension": ".py",
   "mimetype": "text/x-python",
   "name": "python",
   "nbconvert_exporter": "python",
   "pygments_lexer": "ipython3",
   "version": "3.8.3"
  }
 },
 "nbformat": 4,
 "nbformat_minor": 4
}
